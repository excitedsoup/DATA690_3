{
 "cells": [
  {
   "cell_type": "code",
   "execution_count": 269,
   "id": "2dca6459",
   "metadata": {},
   "outputs": [],
   "source": [
    "from bisect import bisect_left\n",
    "# creates binary search, outperforms a linear search by splitting the list until the target value is found.\n",
    "# has time complexity of O(log(n)), whereas a linear search has O(n)\n",
    "def binarySearch(L, target):\n",
    "    left = bisect_left(L, target)\n",
    "    if(left != len(L) and L[left] == target):\n",
    "        return left\n",
    "    else:\n",
    "        return -1"
   ]
  },
  {
   "cell_type": "code",
   "execution_count": 270,
   "id": "222c552b",
   "metadata": {},
   "outputs": [],
   "source": [
    "class staff(object):\n",
    "    def __init__(self, lastName, firstName, birthDate, zCode, hireDate):\n",
    "        self._lName = lastName\n",
    "        self._fName = firstName\n",
    "        self._bDate = birthDate\n",
    "        self._zCode = zCode\n",
    "        self._hDate = hireDate\n",
    "        self._isManager = 0\n",
    "    def disp(self):\n",
    "        print('Last Name:\\t', self._lName)\n",
    "        print('First Name:\\t', self._fName)\n",
    "        print('Birth Date:\\t', self._bDate)\n",
    "        print('Zip Code:\\t', self._zCode)\n",
    "        print('Hire Date:\\t', self._hDate)\n",
    "    def isManager(self):\n",
    "        self._isManager = 1"
   ]
  },
  {
   "cell_type": "code",
   "execution_count": 271,
   "id": "7e8c8f52",
   "metadata": {},
   "outputs": [],
   "source": [
    "class manager(staff):\n",
    "    def __init__(self,  lastName, firstName, birthDate, zCode, hireDate, manages = []):\n",
    "        staff.__init__(self,  lastName, firstName, birthDate, zCode, hireDate)\n",
    "        self._manages = manages\n",
    "    def disp(self):\n",
    "        staff.disp(self)\n",
    "        print('Manages:\\t', self._manages)\n",
    "        try:\n",
    "            if(self._isAdmin == 1):\n",
    "                print('Is the administrator')\n",
    "        except:\n",
    "            pass        \n",
    "    def isAdmin(self):\n",
    "        self._isAdmin = 1"
   ]
  },
  {
   "cell_type": "code",
   "execution_count": 272,
   "id": "f707ac16",
   "metadata": {},
   "outputs": [],
   "source": [
    "class directory(staff):\n",
    "    #id_num = 1\n",
    "    #a directory of all staff members\n",
    "    def __init__(self):\n",
    "        self._vals = []\n",
    "    def insert(self, mem):\n",
    "        self._vals.append(mem)\n",
    "        print(mem._fName, mem._lName, 'inserted')\n",
    "    def disp(self):\n",
    "        if(len(self._vals) == 0):\n",
    "            return 'No Staff Members'\n",
    "        else:\n",
    "            for i in self._vals:\n",
    "                i.disp()\n",
    "                print('--'*14)\n",
    "    def remove(self, mem):\n",
    "        flag = 0\n",
    "        for i in self._vals:\n",
    "            if(i._lName == mem[0] and\n",
    "                i._fName == mem[1] and\n",
    "                i._bDate == mem[2] and\n",
    "                i._zCode == mem[3] and\n",
    "                i._hDate == mem[4]):\n",
    "                self._vals.remove(i)\n",
    "                flag = 1\n",
    "                print('Staff member removed')\n",
    "        if(flag == 0):\n",
    "            print('Staff member not found')\n",
    "            \n",
    "    def findBirth(self, date):\n",
    "        birthDates = []\n",
    "        for i in self._vals:\n",
    "            birthDates.append(i._bDate)\n",
    "        #.sort() uses timsort, averaging O(nlog(n)), but either beats or matches sorts with similar average cases\n",
    "        # (mergesort, quicksort) in worst case and best case\n",
    "        birthDates.sort()\n",
    "        loc = binarySearch(birthDates, date)\n",
    "        if(loc == -1):\n",
    "            print('No staff member with that birthdate')\n",
    "        else:\n",
    "            while(loc != -1):\n",
    "                for i in self._vals:\n",
    "                    if(loc != -1):\n",
    "                        if(birthDates[loc] == i._bDate):\n",
    "                            i.disp()\n",
    "                            print('--'*14)\n",
    "                            birthDates.remove(birthDates[loc])\n",
    "                    loc = binarySearch(birthDates, date)\n",
    "                \n",
    "    def sortHire(self):\n",
    "        members = []\n",
    "        for i in self._vals:\n",
    "            members.append([i._lName, i._fName, i._bDate, i._zCode, i._hDate])\n",
    "        sortedMembers = sorted(members, key = lambda x: x[4]) #sorted also uses timsort\n",
    "        for i in sortedMembers:\n",
    "            print('Last Name:\\t', i[0])\n",
    "            print('First Name:\\t', i[1])\n",
    "            print('Birth Date:\\t', i[2])\n",
    "            print('Zip Code:\\t', i[3])\n",
    "            print('Hire Date:\\t', i[4])\n",
    "            print('--'*14)\n",
    "    \n",
    "    def findHire(self, date):\n",
    "        hireDates = []\n",
    "        for i in self._vals:\n",
    "            hireDates.append(i._hDate)\n",
    "        #.sort() uses timsort, averaging O(nlog(n)), but either beats or matches sorts with similar average cases\n",
    "        # (mergesort, quicksort) in worst case and best case\n",
    "        hireDates.sort()\n",
    "        loc = binarySearch(hireDates, date)\n",
    "        if(loc == -1):\n",
    "            print('No staff member with that hiredate')\n",
    "        else:\n",
    "            while(loc != -1):\n",
    "                for i in self._vals:\n",
    "                    if(loc != -1):\n",
    "                        if(hireDates[loc] == i._hDate):\n",
    "                            i.disp()\n",
    "                            print('--'*14)\n",
    "                            hireDates.remove(hireDates[loc])\n",
    "                    loc = binarySearch(hireDates, date)\n",
    "                \n",
    "    def findZip(self, code):\n",
    "        codes = []\n",
    "        for i in self._vals:\n",
    "            codes.append(i._zCode)\n",
    "        #.sort() uses timsort, averaging O(nlog(n)), but either beats or matches sorts with similar average cases\n",
    "        # (mergesort, quicksort) in worst case and best case\n",
    "        codes.sort()\n",
    "        loc = binarySearch(codes, code)\n",
    "        if(loc == -1):\n",
    "            print('No staff member with that zip code')\n",
    "        else:\n",
    "            while(loc != -1):\n",
    "                for i in self._vals:\n",
    "                    if(loc != -1):\n",
    "                        if(codes[loc] == i._zCode):\n",
    "                            i.disp()\n",
    "                            print('--'*14)\n",
    "                            codes.remove(codes[loc])\n",
    "                    loc = binarySearch(codes, code)\n",
    "    def whoIsAdmin(self):\n",
    "        for i in self._vals:\n",
    "            try:\n",
    "                if(i._isAdmin == 1):\n",
    "                    i.disp()\n",
    "            except:\n",
    "                continue"
   ]
  },
  {
   "cell_type": "code",
   "execution_count": 273,
   "id": "5c90892c",
   "metadata": {},
   "outputs": [
    {
     "name": "stdout",
     "output_type": "stream",
     "text": [
      "Last Name:\t Stevens\n",
      "First Name:\t Jen\n",
      "Birth Date:\t 1989-01-30\n",
      "Zip Code:\t 21227\n",
      "Hire Date:\t 2015-02-25\n"
     ]
    }
   ],
   "source": [
    "s = staff('Stevens', 'Jen', '1989-01-30', '21227', '2015-02-25')\n",
    "p = staff('Kirk', 'Peter', '1995-07-15', '21043', '2022-05-15')\n",
    "q = staff('qirk', 'qeter', '2000-07-15', '22043', '2021-05-21')\n",
    "m = manager('mirk', 'meter', '2000-07-15', '21013', '2012-04-15', ['Jen Stevens', 'Peter Kirk'])\n",
    "o = manager('oirk', 'oeter', '2000-07-15', '21043', '2007-05-20', ['qeter qirk'])\n",
    "j = manager('jirk', 'jeter', '1990-07-15', '21041', '2012-05-20', [])\n",
    "s.disp()\n",
    "j.isAdmin()"
   ]
  },
  {
   "cell_type": "code",
   "execution_count": 274,
   "id": "0d2a2efb",
   "metadata": {},
   "outputs": [
    {
     "name": "stdout",
     "output_type": "stream",
     "text": [
      "Jen Stevens inserted\n",
      "Peter Kirk inserted\n",
      "qeter qirk inserted\n",
      "meter mirk inserted\n",
      "oeter oirk inserted\n",
      "jeter jirk inserted\n"
     ]
    }
   ],
   "source": [
    "d = directory()\n",
    "d.insert(s)\n",
    "d.insert(p)\n",
    "d.insert(q)\n",
    "d.insert(m)\n",
    "d.insert(o)\n",
    "d.insert(j)"
   ]
  },
  {
   "cell_type": "code",
   "execution_count": 275,
   "id": "a8989af8",
   "metadata": {},
   "outputs": [
    {
     "name": "stdout",
     "output_type": "stream",
     "text": [
      "Last Name:\t Stevens\n",
      "First Name:\t Jen\n",
      "Birth Date:\t 1989-01-30\n",
      "Zip Code:\t 21227\n",
      "Hire Date:\t 2015-02-25\n",
      "----------------------------\n",
      "Last Name:\t Kirk\n",
      "First Name:\t Peter\n",
      "Birth Date:\t 1995-07-15\n",
      "Zip Code:\t 21043\n",
      "Hire Date:\t 2022-05-15\n",
      "----------------------------\n",
      "Last Name:\t qirk\n",
      "First Name:\t qeter\n",
      "Birth Date:\t 2000-07-15\n",
      "Zip Code:\t 22043\n",
      "Hire Date:\t 2021-05-21\n",
      "----------------------------\n",
      "Last Name:\t mirk\n",
      "First Name:\t meter\n",
      "Birth Date:\t 2000-07-15\n",
      "Zip Code:\t 21013\n",
      "Hire Date:\t 2012-04-15\n",
      "Manages:\t ['Jen Stevens', 'Peter Kirk']\n",
      "----------------------------\n",
      "Last Name:\t oirk\n",
      "First Name:\t oeter\n",
      "Birth Date:\t 2000-07-15\n",
      "Zip Code:\t 21043\n",
      "Hire Date:\t 2007-05-20\n",
      "Manages:\t ['qeter qirk']\n",
      "----------------------------\n",
      "Last Name:\t jirk\n",
      "First Name:\t jeter\n",
      "Birth Date:\t 1990-07-15\n",
      "Zip Code:\t 21041\n",
      "Hire Date:\t 2012-05-20\n",
      "Manages:\t []\n",
      "Is the administrator\n",
      "----------------------------\n"
     ]
    }
   ],
   "source": [
    "d.disp()"
   ]
  },
  {
   "cell_type": "code",
   "execution_count": 276,
   "id": "b48ea570",
   "metadata": {
    "scrolled": true
   },
   "outputs": [
    {
     "name": "stdout",
     "output_type": "stream",
     "text": [
      "Last Name:\t qirk\n",
      "First Name:\t qeter\n",
      "Birth Date:\t 2000-07-15\n",
      "Zip Code:\t 22043\n",
      "Hire Date:\t 2021-05-21\n",
      "----------------------------\n",
      "Last Name:\t mirk\n",
      "First Name:\t meter\n",
      "Birth Date:\t 2000-07-15\n",
      "Zip Code:\t 21013\n",
      "Hire Date:\t 2012-04-15\n",
      "Manages:\t ['Jen Stevens', 'Peter Kirk']\n",
      "----------------------------\n",
      "Last Name:\t oirk\n",
      "First Name:\t oeter\n",
      "Birth Date:\t 2000-07-15\n",
      "Zip Code:\t 21043\n",
      "Hire Date:\t 2007-05-20\n",
      "Manages:\t ['qeter qirk']\n",
      "----------------------------\n"
     ]
    }
   ],
   "source": [
    "d.findBirth('2000-07-15')"
   ]
  },
  {
   "cell_type": "code",
   "execution_count": 277,
   "id": "c71ba0db",
   "metadata": {},
   "outputs": [
    {
     "name": "stdout",
     "output_type": "stream",
     "text": [
      "No staff member with that birthdate\n"
     ]
    }
   ],
   "source": [
    "d.findBirth('2022-05-20')"
   ]
  },
  {
   "cell_type": "code",
   "execution_count": 278,
   "id": "dc76879d",
   "metadata": {},
   "outputs": [
    {
     "name": "stdout",
     "output_type": "stream",
     "text": [
      "Staff member removed\n"
     ]
    }
   ],
   "source": [
    "d.remove(['Stevens', 'Jen', '1989-01-30', '21227', '2015-02-25'])"
   ]
  },
  {
   "cell_type": "code",
   "execution_count": 279,
   "id": "877bdb50",
   "metadata": {},
   "outputs": [
    {
     "name": "stdout",
     "output_type": "stream",
     "text": [
      "Staff member not found\n"
     ]
    }
   ],
   "source": [
    "d.remove(['Stevens', 'Jen', '1989-01-30', '21227', '2015-02-25'])"
   ]
  },
  {
   "cell_type": "code",
   "execution_count": 280,
   "id": "cc8556bc",
   "metadata": {},
   "outputs": [
    {
     "name": "stdout",
     "output_type": "stream",
     "text": [
      "Last Name:\t Kirk\n",
      "First Name:\t Peter\n",
      "Birth Date:\t 1995-07-15\n",
      "Zip Code:\t 21043\n",
      "Hire Date:\t 2022-05-15\n",
      "----------------------------\n",
      "Last Name:\t oirk\n",
      "First Name:\t oeter\n",
      "Birth Date:\t 2000-07-15\n",
      "Zip Code:\t 21043\n",
      "Hire Date:\t 2007-05-20\n",
      "Manages:\t ['qeter qirk']\n",
      "----------------------------\n"
     ]
    }
   ],
   "source": [
    "d.findZip('21043')"
   ]
  },
  {
   "cell_type": "code",
   "execution_count": 281,
   "id": "e7276ef5",
   "metadata": {},
   "outputs": [
    {
     "name": "stdout",
     "output_type": "stream",
     "text": [
      "No staff member with that zip code\n"
     ]
    }
   ],
   "source": [
    "d.findZip('198234y23')"
   ]
  },
  {
   "cell_type": "code",
   "execution_count": 282,
   "id": "aeaa0f7a",
   "metadata": {
    "scrolled": true
   },
   "outputs": [
    {
     "name": "stdout",
     "output_type": "stream",
     "text": [
      "Last Name:\t oirk\n",
      "First Name:\t oeter\n",
      "Birth Date:\t 2000-07-15\n",
      "Zip Code:\t 21043\n",
      "Hire Date:\t 2007-05-20\n",
      "----------------------------\n",
      "Last Name:\t mirk\n",
      "First Name:\t meter\n",
      "Birth Date:\t 2000-07-15\n",
      "Zip Code:\t 21013\n",
      "Hire Date:\t 2012-04-15\n",
      "----------------------------\n",
      "Last Name:\t jirk\n",
      "First Name:\t jeter\n",
      "Birth Date:\t 1990-07-15\n",
      "Zip Code:\t 21041\n",
      "Hire Date:\t 2012-05-20\n",
      "----------------------------\n",
      "Last Name:\t qirk\n",
      "First Name:\t qeter\n",
      "Birth Date:\t 2000-07-15\n",
      "Zip Code:\t 22043\n",
      "Hire Date:\t 2021-05-21\n",
      "----------------------------\n",
      "Last Name:\t Kirk\n",
      "First Name:\t Peter\n",
      "Birth Date:\t 1995-07-15\n",
      "Zip Code:\t 21043\n",
      "Hire Date:\t 2022-05-15\n",
      "----------------------------\n"
     ]
    }
   ],
   "source": [
    "d.sortHire()"
   ]
  },
  {
   "cell_type": "code",
   "execution_count": 283,
   "id": "29bcfdfc",
   "metadata": {},
   "outputs": [
    {
     "name": "stdout",
     "output_type": "stream",
     "text": [
      "Last Name:\t jirk\n",
      "First Name:\t jeter\n",
      "Birth Date:\t 1990-07-15\n",
      "Zip Code:\t 21041\n",
      "Hire Date:\t 2012-05-20\n",
      "Manages:\t []\n",
      "Is the administrator\n"
     ]
    }
   ],
   "source": [
    "d.whoIsAdmin()"
   ]
  },
  {
   "cell_type": "code",
   "execution_count": null,
   "id": "0f29d26a",
   "metadata": {},
   "outputs": [],
   "source": []
  },
  {
   "cell_type": "code",
   "execution_count": null,
   "id": "8ce4e774",
   "metadata": {},
   "outputs": [],
   "source": []
  }
 ],
 "metadata": {
  "kernelspec": {
   "display_name": "Python 3 (ipykernel)",
   "language": "python",
   "name": "python3"
  },
  "language_info": {
   "codemirror_mode": {
    "name": "ipython",
    "version": 3
   },
   "file_extension": ".py",
   "mimetype": "text/x-python",
   "name": "python",
   "nbconvert_exporter": "python",
   "pygments_lexer": "ipython3",
   "version": "3.9.7"
  }
 },
 "nbformat": 4,
 "nbformat_minor": 5
}
