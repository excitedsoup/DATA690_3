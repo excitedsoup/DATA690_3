{
 "cells": [
  {
   "cell_type": "code",
   "execution_count": 14,
   "id": "d221f748",
   "metadata": {},
   "outputs": [],
   "source": [
    "class Int_set(object): \n",
    "    \"\"\"An Int_set is a set of integers\"\"\" \n",
    "    #Information about the implementation (not the abstraction): \n",
    "    #Value of a set is represented by a list of ints, self._vals. \n",
    "    #Each int in a set occurs in self._vals exactly once. \n",
    "    def __init__(self): \n",
    "        \"\"\"Create an empty set of integers\"\"\" \n",
    "        self._vals = [] \n",
    "    def insert(self, e): \n",
    "        \"\"\"Assumes e is an integer and inserts e into self\"\"\" \n",
    "        if e not in self._vals: \n",
    "            self._vals.append(e) \n",
    "    def member(self, e): \n",
    "        \"\"\"Assumes e is an integer \n",
    "        Returns True if e is in self, and False otherwise\"\"\" \n",
    "        return e in self._vals \n",
    "    def remove(self, e): \n",
    "        \"\"\"Assumes e is an integer and removes e from self \n",
    "        Raises ValueError if e is not in self\"\"\" \n",
    "        try: \n",
    "            self._vals.remove(e) \n",
    "        except: \n",
    "            raise ValueError(str(e) + ' not found') \n",
    "    def get_members(self): \n",
    "        \"\"\"Returns a list containing the elements of self._ \n",
    "        Nothing can be assumed about the order of the elements\"\"\" \n",
    "        return self._vals[:] \n",
    "    def __str__(self): \n",
    "        \"\"\"Returns a string representation of self\"\"\" \n",
    "        if self._vals == []: \n",
    "            return '{}' \n",
    "        self._vals.sort() \n",
    "        result = '' \n",
    "        for e in self._vals: \n",
    "            result = result + str(e) + ',' \n",
    "        return f'{{{result[:-1]}}}'\n",
    "    def union(self, another):\n",
    "        for i in another:\n",
    "            if i not in self._vals:\n",
    "                self._vals.append(i)"
   ]
  },
  {
   "cell_type": "code",
   "execution_count": 15,
   "id": "9238ab40",
   "metadata": {},
   "outputs": [
    {
     "name": "stdout",
     "output_type": "stream",
     "text": [
      "{3,4,5,6}\n"
     ]
    }
   ],
   "source": [
    "s = Int_set()\n",
    "s.insert(3)\n",
    "s.insert(4)\n",
    "s.union({5, 6})\n",
    "print(str(s))"
   ]
  },
  {
   "cell_type": "code",
   "execution_count": 36,
   "id": "495ccab3",
   "metadata": {},
   "outputs": [],
   "source": [
    "class Int_set(object): \n",
    "    \"\"\"An Int_set is a set of integers\"\"\" \n",
    "    #Information about the implementation (not the abstraction): \n",
    "    #Value of a set is represented by a list of ints, self._vals. \n",
    "    #Each int in a set occurs in self._vals exactly once. \n",
    "    def __init__(self): \n",
    "        \"\"\"Create an empty set of integers\"\"\" \n",
    "        self._vals = [] \n",
    "    def insert(self, e): \n",
    "        \"\"\"Assumes e is an integer and inserts e into self\"\"\" \n",
    "        if e not in self._vals: \n",
    "            self._vals.append(e) \n",
    "    def member(self, e): \n",
    "        \"\"\"Assumes e is an integer \n",
    "        Returns True if e is in self, and False otherwise\"\"\" \n",
    "        return e in self._vals \n",
    "    def remove(self, e): \n",
    "        \"\"\"Assumes e is an integer and removes e from self \n",
    "        Raises ValueError if e is not in self\"\"\" \n",
    "        try: \n",
    "            self._vals.remove(e) \n",
    "        except: \n",
    "            raise ValueError(str(e) + ' not found') \n",
    "    def get_members(self): \n",
    "        \"\"\"Returns a list containing the elements of self._ \n",
    "        Nothing can be assumed about the order of the elements\"\"\" \n",
    "        return self._vals[:] \n",
    "    def __str__(self): \n",
    "        \"\"\"Returns a string representation of self\"\"\" \n",
    "        if self._vals == []: \n",
    "            return '{}' \n",
    "        self._vals.sort() \n",
    "        result = '' \n",
    "        for e in self._vals: \n",
    "            result = result + str(e) + ',' \n",
    "        return f'{{{result[:-1]}}}'\n",
    "    def __add__(self, another):\n",
    "        for i in another:\n",
    "            if i not in self._vals:\n",
    "                self._vals.append(i)\n",
    "        return self"
   ]
  },
  {
   "cell_type": "code",
   "execution_count": 37,
   "id": "944d90f4",
   "metadata": {},
   "outputs": [
    {
     "name": "stdout",
     "output_type": "stream",
     "text": [
      "{3,4,5,6}\n"
     ]
    }
   ],
   "source": [
    "s = Int_set()\n",
    "s.insert(3)\n",
    "s.insert(4)\n",
    "s = s + {5, 6}\n",
    "print(str(s))"
   ]
  },
  {
   "cell_type": "code",
   "execution_count": 46,
   "id": "6fba6199",
   "metadata": {},
   "outputs": [],
   "source": [
    "class Person(object): \n",
    "    def __init__(self, name): \n",
    "        \"\"\"Assumes name a string. Create a person\"\"\" \n",
    "        self._name = name \n",
    "        try: \n",
    "            last_blank = name.rindex(' ') \n",
    "            self._last_name = name[last_blank+1:] \n",
    "        except: \n",
    "            self._last_name = name \n",
    "        self.birthday = None \n",
    "    def get_name(self): \n",
    "        \"\"\"Returns self's full name\"\"\" \n",
    "        return self._name \n",
    "    def get_last_name(self): \n",
    "        \"\"\"Returns self's last name\"\"\" \n",
    "        return self._last_name \n",
    "    def set_birthday(self, birthdate): \n",
    "        \"\"\"Assumes birthdate is of type datetime.date \n",
    "        Sets self's birthday to birthdate\"\"\" \n",
    "        self._birthday = birthdate \n",
    "    def get_age(self): \n",
    "        \"\"\"Returns self's current age in days\"\"\" \n",
    "        if self._birthday == None: \n",
    "            raise ValueError \n",
    "        return (datetime.date.today() - self._birthday).days \n",
    "    def __lt__(self, other): \n",
    "        \"\"\"Assume other a Person \n",
    "            Returns True if self precedes other in alphabetical \n",
    "            order, and False otherwise. Comparison is based on last \n",
    "            names, but if these are the same full names are \n",
    "            compared.\"\"\" \n",
    "        if self._last_name == other._last_name: \n",
    "            return self._name < other._name \n",
    "        return self._last_name < other._last_name \n",
    "    def __str__(self): \n",
    "        \"\"\"Returns self's name\"\"\" \n",
    "        return self._name \n",
    "\n",
    "class Politician(Person): \n",
    "    \"\"\" A politician is a person who can belong to a political party\"\"\" \n",
    "    def __init__(self, name, party = None):\n",
    "        \"\"\"name and party are strings\"\"\"\n",
    "        Person.__init__(self, name)\n",
    "        self._party = party\n",
    "    def get_party(self): \n",
    "        \"\"\"returns the party to which self belongs\"\"\"\n",
    "        return self._party\n",
    "    def might_agree(self, other):\n",
    "        \"\"\"returns True if self and other belong to the same part \n",
    "        or at least one of then does not belong to a party\"\"\"\n",
    "        if self._party == other._party or self._party == None or other._party == None:\n",
    "            return True\n",
    "        else:\n",
    "            return False"
   ]
  },
  {
   "cell_type": "code",
   "execution_count": 70,
   "id": "b4c32af8",
   "metadata": {},
   "outputs": [],
   "source": [
    "g = Politician('Greg', 'R')\n",
    "s = Politician('Steve', 'D')\n",
    "r = Politician('Rachel', 'D')\n",
    "a = Politician('Annie')"
   ]
  },
  {
   "cell_type": "code",
   "execution_count": 69,
   "id": "ba935a81",
   "metadata": {},
   "outputs": [
    {
     "name": "stdout",
     "output_type": "stream",
     "text": [
      "None\n",
      "R\n"
     ]
    }
   ],
   "source": [
    "print(a.get_party())\n",
    "print(g.get_party())"
   ]
  },
  {
   "cell_type": "code",
   "execution_count": 68,
   "id": "260b6d16",
   "metadata": {},
   "outputs": [
    {
     "name": "stdout",
     "output_type": "stream",
     "text": [
      "False\n",
      "True\n",
      "True\n"
     ]
    }
   ],
   "source": [
    "print(g.might_agree(s))\n",
    "print(g.might_agree(a))\n",
    "print(s.might_agree(r))"
   ]
  },
  {
   "cell_type": "code",
   "execution_count": 76,
   "id": "d2c052ea",
   "metadata": {},
   "outputs": [],
   "source": [
    "def grade_report(course): \n",
    "    \"\"\"Assumes course is of type Grades\"\"\" \n",
    "    report = '' \n",
    "    for s in course.get_students(): \n",
    "        tot = 0.0 \n",
    "        num_grades = 0 \n",
    "        for g in course.get_grades(s): \n",
    "            tot += g \n",
    "            num_grades += 1 \n",
    "        try: \n",
    "            average = tot/num_grades \n",
    "            report = f\"{report}\\n{s}'s mean grade is {average}\" \n",
    "        except ZeroDivisionError: \n",
    "            report = f\"{report}\\n{s} has no grades\" \n",
    "    return report "
   ]
  },
  {
   "cell_type": "code",
   "execution_count": 81,
   "id": "bd47ecbf",
   "metadata": {},
   "outputs": [],
   "source": [
    "class MIT_person(Person): \n",
    "    _next_id_num = 0 #identification number \n",
    "    def __init__(self, name): \n",
    "        super().__init__(name) \n",
    "        self._id_num = MIT_person._next_id_num \n",
    "        MIT_person._next_id_num += 1 \n",
    "    def get_id_num(self): \n",
    "        return self._id_num \n",
    "    def __lt__(self, other): \n",
    "        return self._id_num < other._id_num \n",
    "\n",
    "class Student(MIT_person): \n",
    "    pass \n",
    "\n",
    "class UG(Student): \n",
    "    def __init__(self, name, class_year): \n",
    "        super().__init__(name) \n",
    "        self._year = class_year \n",
    "    def get_class(self): \n",
    "        return self._year \n",
    "\n",
    "class Grad(Student): \n",
    "    pass "
   ]
  },
  {
   "cell_type": "code",
   "execution_count": 98,
   "id": "6d0a1ec9",
   "metadata": {},
   "outputs": [],
   "source": [
    "class Grades(object): \n",
    "    def __init__(self): \n",
    "        \"\"\"Create empty grade book\"\"\" \n",
    "        self._students = [] \n",
    "        self._grades = {} \n",
    "        self._is_sorted = True \n",
    "    def add_student(self, student): \n",
    "        \"\"\"Assumes: student is of type Student \n",
    "        Add student to the grade book\"\"\" \n",
    "        if student in self._students: \n",
    "            raise ValueError('Duplicate student') \n",
    "        self._students.append(student) \n",
    "        self._grades[student.get_id_num()] = [] \n",
    "        self._is_sorted = False \n",
    "    def add_grade(self, student, grade): \n",
    "        \"\"\"Assumes: grade is a float \n",
    "        Add grade to the list of grades for student\"\"\" \n",
    "        try: \n",
    "            self._grades[student.get_id_num()].append(grade) \n",
    "        except: \n",
    "            raise ValueError('Student not in mapping') \n",
    "    def get_grades(self, student): \n",
    "        \"\"\"Return a list of grades for student\"\"\" \n",
    "        try: \n",
    "            return self._grades[student.get_id_num()][:] \n",
    "        except: \n",
    "            raise ValueError('Student not in mapping') \n",
    "    def get_students(self): \n",
    "        \"\"\"Return the students in the grade book one at a time \n",
    "        in alphabetical order\"\"\" \n",
    "        if not self._is_sorted: \n",
    "            self._students.sort() \n",
    "            self._is_sorted = True \n",
    "        for s in self._students: \n",
    "            yield s\n",
    "    def get_students_above(self, grade):\n",
    "        for s in self._grades:\n",
    "            print(s)\n",
    "            if(s > grade):\n",
    "                yield self._grades[student.get_id_num()][:]\n",
    "        \"\"\"Return the students a mean grade > g one at a time\"\"\" "
   ]
  },
  {
   "cell_type": "code",
   "execution_count": 99,
   "id": "5e94de88",
   "metadata": {},
   "outputs": [],
   "source": [
    "book = Grades()"
   ]
  },
  {
   "cell_type": "code",
   "execution_count": 101,
   "id": "937eeef7",
   "metadata": {},
   "outputs": [
    {
     "name": "stdout",
     "output_type": "stream",
     "text": [
      "\n",
      "Jane Doe's mean grade is 75.0\n",
      "Pierce Addison's mean grade is 75.0\n",
      "David Henry has no grades\n",
      "Billy Buckner's mean grade is 50.0\n",
      "Bucky F. Dent's mean grade is 87.5\n",
      "50\n"
     ]
    },
    {
     "ename": "NameError",
     "evalue": "name 'student' is not defined",
     "output_type": "error",
     "traceback": [
      "\u001b[1;31m---------------------------------------------------------------------------\u001b[0m",
      "\u001b[1;31mNameError\u001b[0m                                 Traceback (most recent call last)",
      "\u001b[1;32m~\\AppData\\Local\\Temp/ipykernel_17388/1723360219.py\u001b[0m in \u001b[0;36m<module>\u001b[1;34m\u001b[0m\n\u001b[0;32m     15\u001b[0m \u001b[0msix_hundred\u001b[0m\u001b[1;33m.\u001b[0m\u001b[0madd_student\u001b[0m\u001b[1;33m(\u001b[0m\u001b[0mug3\u001b[0m\u001b[1;33m)\u001b[0m\u001b[1;33m\u001b[0m\u001b[1;33m\u001b[0m\u001b[0m\n\u001b[0;32m     16\u001b[0m \u001b[0mprint\u001b[0m\u001b[1;33m(\u001b[0m\u001b[0mgrade_report\u001b[0m\u001b[1;33m(\u001b[0m\u001b[0msix_hundred\u001b[0m\u001b[1;33m)\u001b[0m\u001b[1;33m)\u001b[0m\u001b[1;33m\u001b[0m\u001b[1;33m\u001b[0m\u001b[0m\n\u001b[1;32m---> 17\u001b[1;33m \u001b[1;32mfor\u001b[0m \u001b[0mi\u001b[0m \u001b[1;32min\u001b[0m \u001b[0msix_hundred\u001b[0m\u001b[1;33m.\u001b[0m\u001b[0mget_students_above\u001b[0m\u001b[1;33m(\u001b[0m\u001b[1;36m6\u001b[0m\u001b[1;33m)\u001b[0m\u001b[1;33m:\u001b[0m\u001b[1;33m\u001b[0m\u001b[1;33m\u001b[0m\u001b[0m\n\u001b[0m\u001b[0;32m     18\u001b[0m     \u001b[0mprint\u001b[0m\u001b[1;33m(\u001b[0m\u001b[0mi\u001b[0m\u001b[1;33m)\u001b[0m\u001b[1;33m\u001b[0m\u001b[1;33m\u001b[0m\u001b[0m\n",
      "\u001b[1;32m~\\AppData\\Local\\Temp/ipykernel_17388/3599787297.py\u001b[0m in \u001b[0;36mget_students_above\u001b[1;34m(self, grade)\u001b[0m\n\u001b[0;32m     38\u001b[0m             \u001b[0mprint\u001b[0m\u001b[1;33m(\u001b[0m\u001b[0ms\u001b[0m\u001b[1;33m)\u001b[0m\u001b[1;33m\u001b[0m\u001b[1;33m\u001b[0m\u001b[0m\n\u001b[0;32m     39\u001b[0m             \u001b[1;32mif\u001b[0m\u001b[1;33m(\u001b[0m\u001b[0ms\u001b[0m \u001b[1;33m>\u001b[0m \u001b[0mgrade\u001b[0m\u001b[1;33m)\u001b[0m\u001b[1;33m:\u001b[0m\u001b[1;33m\u001b[0m\u001b[1;33m\u001b[0m\u001b[0m\n\u001b[1;32m---> 40\u001b[1;33m                 \u001b[1;32myield\u001b[0m \u001b[0mself\u001b[0m\u001b[1;33m.\u001b[0m\u001b[0m_grades\u001b[0m\u001b[1;33m[\u001b[0m\u001b[0mstudent\u001b[0m\u001b[1;33m.\u001b[0m\u001b[0mget_id_num\u001b[0m\u001b[1;33m(\u001b[0m\u001b[1;33m)\u001b[0m\u001b[1;33m]\u001b[0m\u001b[1;33m[\u001b[0m\u001b[1;33m:\u001b[0m\u001b[1;33m]\u001b[0m\u001b[1;33m\u001b[0m\u001b[1;33m\u001b[0m\u001b[0m\n\u001b[0m\u001b[0;32m     41\u001b[0m         \u001b[1;34m\"\"\"Return the students a mean grade > g one at a time\"\"\"\u001b[0m\u001b[1;33m\u001b[0m\u001b[1;33m\u001b[0m\u001b[0m\n",
      "\u001b[1;31mNameError\u001b[0m: name 'student' is not defined"
     ]
    }
   ],
   "source": [
    "ug1 = UG('Jane Doe', 2021) \n",
    "ug2 = UG('Pierce Addison', 2041) \n",
    "ug3 = UG('David Henry', 2003) \n",
    "g1 = Grad('Billy Buckner') \n",
    "g2 = Grad('Bucky F. Dent') \n",
    "six_hundred = Grades() \n",
    "six_hundred.add_student(ug1) \n",
    "six_hundred.add_student(ug2) \n",
    "six_hundred.add_student(g1) \n",
    "six_hundred.add_student(g2) \n",
    "for s in six_hundred.get_students(): \n",
    "    six_hundred.add_grade(s, 75) \n",
    "six_hundred.add_grade(g1, 25) \n",
    "six_hundred.add_grade(g2, 100) \n",
    "six_hundred.add_student(ug3) \n",
    "print(grade_report(six_hundred))\n",
    "for i in six_hundred.get_students_above(6):\n",
    "    print(i)"
   ]
  },
  {
   "cell_type": "code",
   "execution_count": null,
   "id": "924ca38f",
   "metadata": {},
   "outputs": [],
   "source": []
  }
 ],
 "metadata": {
  "kernelspec": {
   "display_name": "Python 3 (ipykernel)",
   "language": "python",
   "name": "python3"
  },
  "language_info": {
   "codemirror_mode": {
    "name": "ipython",
    "version": 3
   },
   "file_extension": ".py",
   "mimetype": "text/x-python",
   "name": "python",
   "nbconvert_exporter": "python",
   "pygments_lexer": "ipython3",
   "version": "3.9.7"
  }
 },
 "nbformat": 4,
 "nbformat_minor": 5
}
