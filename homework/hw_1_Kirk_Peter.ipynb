{
 "cells": [
  {
   "cell_type": "code",
   "execution_count": 2,
   "id": "60c8fccb",
   "metadata": {},
   "outputs": [
    {
     "name": "stdout",
     "output_type": "stream",
     "text": [
      "Enter your namePeter\n",
      "Enter an integer number5\n",
      "Peter\n",
      "Peter\n",
      "Peter\n",
      "Peter\n",
      "Peter\n"
     ]
    }
   ],
   "source": [
    "name = input('Enter your name')\n",
    "num = int(input('Enter an integer number'))\n",
    "i = 0\n",
    "while(i < num):\n",
    "    print(name)\n",
    "    i += 1"
   ]
  },
  {
   "cell_type": "code",
   "execution_count": null,
   "id": "77b5956d",
   "metadata": {},
   "outputs": [],
   "source": []
  }
 ],
 "metadata": {
  "kernelspec": {
   "display_name": "Python 3 (ipykernel)",
   "language": "python",
   "name": "python3"
  },
  "language_info": {
   "codemirror_mode": {
    "name": "ipython",
    "version": 3
   },
   "file_extension": ".py",
   "mimetype": "text/x-python",
   "name": "python",
   "nbconvert_exporter": "python",
   "pygments_lexer": "ipython3",
   "version": "3.9.7"
  }
 },
 "nbformat": 4,
 "nbformat_minor": 5
}
