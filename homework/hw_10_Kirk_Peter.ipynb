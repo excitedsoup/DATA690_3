{
 "cells": [
  {
   "cell_type": "markdown",
   "metadata": {},
   "source": [
    "1. Create a sample code of partitioning. Use 5 as k argumemnt."
   ]
  },
  {
   "cell_type": "markdown",
   "metadata": {},
   "source": [
    "2. Create a sample structure array using following specification:\n",
    "- name: OrderDate, format: unicode maximum 8 characters\n",
    "- name: OrderAmount, format: float 8-bytes\n",
    "- name: OrderNumber, format: integer 4-bytes\n",
    "- name: OrderName, format: unicode maximum 20 characters"
   ]
  },
  {
   "cell_type": "markdown",
   "metadata": {},
   "source": [
    "3. Using #2, create a NumPy array of 10 elements with proper initialization of the structured array. Note order numbers must be between 101 - 110."
   ]
  },
  {
   "cell_type": "markdown",
   "metadata": {},
   "source": [
    "4. Using the array in #3, filter the array to return orders with order number less than 105. "
   ]
  },
  {
   "cell_type": "markdown",
   "metadata": {},
   "source": [
    "5. Using the code snippet below, fill-in the cell to generate the array as shown at the bottom. \n",
    "- You will need to use fancy indexing and masking. \n",
    "- Select rows with indices 0, 3, 4, 6, 7\n",
    "- Use column masking to return every other columns. The first column will be returned, 2nd column will not and so on. "
   ]
  },
  {
   "cell_type": "code",
   "execution_count": 39,
   "metadata": {},
   "outputs": [],
   "source": [
    "import numpy as np\n",
    "\n",
    "rng = np.random.RandomState(0)\n",
    "x = rng.randint(10, size=(10, 10))"
   ]
  },
  {
   "cell_type": "code",
   "execution_count": 40,
   "metadata": {},
   "outputs": [
    {
     "data": {
      "text/plain": [
       "array([[0, 2, 3, 3, 3, 4, 5, 5, 9, 7],\n",
       "       [1, 1, 7, 6, 6, 7, 7, 8, 8, 8],\n",
       "       [3, 0, 3, 0, 4, 5, 5, 8, 9, 9],\n",
       "       [1, 1, 0, 2, 3, 3, 3, 7, 8, 3],\n",
       "       [2, 0, 0, 2, 3, 4, 7, 7, 9, 9],\n",
       "       [0, 1, 4, 4, 4, 5, 5, 6, 8, 9],\n",
       "       [1, 3, 1, 2, 6, 7, 7, 8, 9, 9],\n",
       "       [3, 0, 3, 4, 4, 4, 4, 5, 6, 9],\n",
       "       [0, 1, 3, 4, 4, 4, 7, 5, 8, 5],\n",
       "       [0, 0, 1, 2, 2, 3, 4, 5, 9, 5]])"
      ]
     },
     "execution_count": 40,
     "metadata": {},
     "output_type": "execute_result"
    }
   ],
   "source": [
    "#1\n",
    "np.partition(x, 5)"
   ]
  },
  {
   "cell_type": "code",
   "execution_count": 41,
   "metadata": {},
   "outputs": [
    {
     "name": "stdout",
     "output_type": "stream",
     "text": [
      "[('OrderDate', '<U8'), ('OrderAmount', '<f8'), ('OrderNumber', '<i4'), ('OrderName', '<U20')]\n"
     ]
    },
    {
     "data": {
      "text/plain": [
       "array([('', 0., 0, ''), ('', 0., 0, ''), ('', 0., 0, ''), ('', 0., 0, ''),\n",
       "       ('', 0., 0, ''), ('', 0., 0, ''), ('', 0., 0, ''), ('', 0., 0, ''),\n",
       "       ('', 0., 0, ''), ('', 0., 0, '')],\n",
       "      dtype=[('OrderDate', '<U8'), ('OrderAmount', '<f8'), ('OrderNumber', '<i4'), ('OrderName', '<U20')])"
      ]
     },
     "execution_count": 41,
     "metadata": {},
     "output_type": "execute_result"
    }
   ],
   "source": [
    "#2\n",
    "data = np.zeros(10, dtype={'names':('OrderDate', 'OrderAmount', 'OrderNumber', 'OrderName'),\n",
    "                          'formats':('U8', 'f8', 'i4', 'U20')})\n",
    "print(data.dtype)\n",
    "data"
   ]
  },
  {
   "cell_type": "code",
   "execution_count": 42,
   "metadata": {},
   "outputs": [],
   "source": [
    "#3\n",
    "OrderDate = ['2/22/2021', '4/2/2021', '7/27/2021', '9/24/2021', '10/7/2021',\n",
    "             '10/30/2021', '2/4/2022', '6/21/2022', '9/7/2022', '12/25/2022']\n",
    "OrderAmount = [19.23, 32.54, 12.41, 11.30, 10.97,\n",
    "               31.89, 31.78, 18.51, 35.59, 14.48]\n",
    "OrderNumber = [109, 105, 107, 110, 108,\n",
    "               101, 104, 106, 103, 102]\n",
    "OrderName = ['Glenn', 'Otis', 'Chris', 'Tyler', 'Steve',\n",
    "             'Eva', 'Jenna', 'Alice', 'Sarah', 'Diana']\n",
    "data['OrderDate'] = OrderDate\n",
    "data['OrderAmount'] = OrderAmount\n",
    "data['OrderNumber'] = OrderNumber\n",
    "data['OrderName'] = OrderName"
   ]
  },
  {
   "cell_type": "code",
   "execution_count": 43,
   "metadata": {},
   "outputs": [
    {
     "data": {
      "text/plain": [
       "array([('10/30/20', 31.89, 101, 'Eva'), ('2/4/2022', 31.78, 104, 'Jenna'),\n",
       "       ('9/7/2022', 35.59, 103, 'Sarah'),\n",
       "       ('12/25/20', 14.48, 102, 'Diana')],\n",
       "      dtype=[('OrderDate', '<U8'), ('OrderAmount', '<f8'), ('OrderNumber', '<i4'), ('OrderName', '<U20')])"
      ]
     },
     "execution_count": 43,
     "metadata": {},
     "output_type": "execute_result"
    }
   ],
   "source": [
    "data[data['OrderNumber'] < 105]"
   ]
  },
  {
   "cell_type": "code",
   "execution_count": 44,
   "metadata": {},
   "outputs": [
    {
     "data": {
      "text/plain": [
       "array([[5, 3, 7, 3, 2],\n",
       "       [2, 8, 3, 3, 0],\n",
       "       [9, 0, 7, 2, 2],\n",
       "       [8, 1, 9, 3, 7],\n",
       "       [0, 5, 4, 6, 4]])"
      ]
     },
     "execution_count": 44,
     "metadata": {},
     "output_type": "execute_result"
    }
   ],
   "source": [
    "#5\n",
    "rowInd = [0, 3, 4, 6, 7]\n",
    "colInd = []\n",
    "for i in range(0, 9):\n",
    "    if i % 2 == 0:\n",
    "        colInd.append(i)\n",
    "x[np.array(rowInd)[:, np.newaxis], np.array(colInd)]\n"
   ]
  }
 ],
 "metadata": {
  "kernelspec": {
   "display_name": "Python 3 (ipykernel)",
   "language": "python",
   "name": "python3"
  },
  "language_info": {
   "codemirror_mode": {
    "name": "ipython",
    "version": 3
   },
   "file_extension": ".py",
   "mimetype": "text/x-python",
   "name": "python",
   "nbconvert_exporter": "python",
   "pygments_lexer": "ipython3",
   "version": "3.9.7"
  }
 },
 "nbformat": 4,
 "nbformat_minor": 4
}
