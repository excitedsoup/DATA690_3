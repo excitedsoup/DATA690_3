{
 "cells": [
  {
   "cell_type": "code",
   "execution_count": 15,
   "id": "40849458",
   "metadata": {},
   "outputs": [],
   "source": [
    "\"\"\"coin_vals is a list of positive ints and coin_vals[0] = 1 \n",
    "change is a positive int, \n",
    "return the minimum number of coins needed to have a set of \n",
    "coins the values of which sum to change. Coins may be used \n",
    "more than once. For example, make_change([1, 5, 8], 11) \n",
    "should return 3.\"\"\" \n",
    "\n",
    "#figuring out number of solutions\n",
    "\n",
    "def how_many(coin_vals, change):\n",
    "    num_coins = len(coin_vals)\n",
    "    coin_table = []\n",
    "    for i in range(0, change + 1):\n",
    "        coin_table.append([])\n",
    "        for j in range(num_coins):\n",
    "            coin_table[i].append(0)\n",
    "    \n",
    "    for i in range(num_coins): #need initial value\n",
    "        coin_table[0][i] = 1\n",
    "        \n",
    "    for i in range(1, change + 1):\n",
    "        for j in range(num_coins):\n",
    "            if (i - coin_vals[j]) >= 0: #grabs the value from current row\n",
    "                x_val = coin_table[i - coin_vals[j]][j]\n",
    "            else:\n",
    "                x_val = 0\n",
    "                \n",
    "            if j >= 1: #grabs value from row above\n",
    "                y_val = coin_table[i][j-1] \n",
    "            else:\n",
    "                y_val = 0\n",
    "                \n",
    "            coin_table[i][j] = x_val + y_val\n",
    " \n",
    "    return coin_table[change][num_coins-1]"
   ]
  },
  {
   "cell_type": "code",
   "execution_count": 16,
   "id": "3381e92c",
   "metadata": {},
   "outputs": [
    {
     "data": {
      "text/plain": [
       "5"
      ]
     },
     "execution_count": 16,
     "metadata": {},
     "output_type": "execute_result"
    }
   ],
   "source": [
    "test = [1, 5, 8]\n",
    "    \n",
    "how_many(test, 13)"
   ]
  },
  {
   "cell_type": "markdown",
   "id": "91e3f218",
   "metadata": {},
   "source": [
    "I found [this video](https://www.youtube.com/watch?v=DJ4a7cmjZY0) very helpful in understanding how to go about this problem, it was very difficult to wrap my head around initially"
   ]
  },
  {
   "cell_type": "code",
   "execution_count": 20,
   "id": "abb0b123",
   "metadata": {},
   "outputs": [],
   "source": [
    "def make_change(coin_vals, change):\n",
    "    \n",
    "    coin_table = []\n",
    "    for i in range(len(coin_vals) + 1):\n",
    "        coin_table.append([])\n",
    "        for j in range(change + 1):\n",
    "            coin_table[i].append(0)\n",
    "    for i in range(1, change + 1):\n",
    "        coin_table[0][i] = float('infinity') # will return this if there is no possible solution\n",
    "    i = 0\n",
    "    for coin in coin_vals:\n",
    "        i += 1\n",
    "        for j in range(1, change + 1):\n",
    "            # testing if the coin is the number\n",
    "            if(coin == j):\n",
    "                coin_table[i][j] = 1\n",
    "            # testing if the coin is too large\n",
    "            elif(coin > j):\n",
    "                coin_table[i][j] = coin_table[i - 1][j]\n",
    "            # the coin is usable, so determine if the coin improves the solution\n",
    "            else:\n",
    "                if(coin_table[i - 1][j] > 1 + coin_table[i][j - coin]):\n",
    "                    coin_table[i][j] = 1 + coin_table[i][j - coin]\n",
    "                else:\n",
    "                    coin_table[i][j] = coin_table[i - 1][j]\n",
    "                \n",
    "    return coin_table[-1][-1]"
   ]
  },
  {
   "cell_type": "code",
   "execution_count": 21,
   "id": "f1e9bcc3",
   "metadata": {},
   "outputs": [
    {
     "data": {
      "text/plain": [
       "3"
      ]
     },
     "execution_count": 21,
     "metadata": {},
     "output_type": "execute_result"
    }
   ],
   "source": [
    "test = [1, 5, 8]\n",
    "make_change(test, 11)"
   ]
  },
  {
   "cell_type": "code",
   "execution_count": 18,
   "id": "d17bbd84",
   "metadata": {},
   "outputs": [
    {
     "name": "stdout",
     "output_type": "stream",
     "text": [
      "[6, 10, 11, 10, 11, 14, 15, 16, 17, 16, 15, 16, 17, 25, 26, 20, 21, 22, 23, 24, 23, 22, 23, 27, 28, 24, 25, 26, 27, 35, 29, 30, 31, 30, 31, 27, 28, 29, 30, 31, 34, 35, 36, 40, 41, 35, 36, 37, 38, 42, 38, 39, 40, 41, 42, 38, 39, 40, 41, 42, 36, 44, 45, 44, 45, 44, 45, 46, 47, 46, 42, 43, 44, 45, 46, 42, 43, 44, 45, 46, 49, 50, 51, 59, 60, 56, 57, 58, 59, 63, 57, 58, 59, 58, 59, 55, 56, 57, 58, 59, 55, 59, 60, 61, 62, 58, 59, 60, 61, 62, 58, 59, 60, 61, 62, 61, 62, 63, 64, 65, 59, 60, 61, 60, 61, 64, 65, 66, 67, 66, 65, 66, 67, 71, 72, 68, 69, 70, 71, 72, 68, 67, 68, 69, 70, 66, 67, 68, 69, 70]\n"
     ]
    }
   ],
   "source": [
    "test2 = []\n",
    "for i in range(30):\n",
    "    for j in range(5):\n",
    "        test2.append(test[i]+test[int(len(test)/2)]+j)\n",
    "        test.append(test[i]+test[int(len(test)/2)])\n",
    "print(test2)"
   ]
  },
  {
   "cell_type": "code",
   "execution_count": 19,
   "id": "7d4ebc7f",
   "metadata": {},
   "outputs": [
    {
     "data": {
      "text/plain": [
       "740"
      ]
     },
     "execution_count": 19,
     "metadata": {},
     "output_type": "execute_result"
    }
   ],
   "source": [
    "make_change(test2, 53241)"
   ]
  }
 ],
 "metadata": {
  "kernelspec": {
   "display_name": "Python 3 (ipykernel)",
   "language": "python",
   "name": "python3"
  },
  "language_info": {
   "codemirror_mode": {
    "name": "ipython",
    "version": 3
   },
   "file_extension": ".py",
   "mimetype": "text/x-python",
   "name": "python",
   "nbconvert_exporter": "python",
   "pygments_lexer": "ipython3",
   "version": "3.9.7"
  }
 },
 "nbformat": 4,
 "nbformat_minor": 5
}
