{
 "cells": [
  {
   "cell_type": "code",
   "execution_count": 1,
   "id": "75b9c72c",
   "metadata": {},
   "outputs": [],
   "source": [
    "def g(L, e): \n",
    "    \"\"\"L a list of ints, e is an int\"\"\" \n",
    "    for i in range(100):\n",
    "        for e1 in L: \n",
    "            if e1 == e: \n",
    "                return True \n",
    "    return False"
   ]
  },
  {
   "cell_type": "markdown",
   "id": "0b53de41",
   "metadata": {},
   "source": [
    "O(100n) = O(n)"
   ]
  },
  {
   "cell_type": "code",
   "execution_count": null,
   "id": "ef150d28",
   "metadata": {},
   "outputs": [],
   "source": [
    "def h(L, e): \n",
    "    \"\"\"L a list of ints, e is an int\"\"\" \n",
    "    for i in range(e):\n",
    "        for e1 in L: \n",
    "            if e1 == e: \n",
    "                return True \n",
    "    return False"
   ]
  },
  {
   "cell_type": "markdown",
   "id": "c78643d4",
   "metadata": {},
   "source": [
    "O(e*n)"
   ]
  },
  {
   "cell_type": "code",
   "execution_count": null,
   "id": "3252b6a9",
   "metadata": {},
   "outputs": [],
   "source": []
  }
 ],
 "metadata": {
  "kernelspec": {
   "display_name": "Python 3 (ipykernel)",
   "language": "python",
   "name": "python3"
  },
  "language_info": {
   "codemirror_mode": {
    "name": "ipython",
    "version": 3
   },
   "file_extension": ".py",
   "mimetype": "text/x-python",
   "name": "python",
   "nbconvert_exporter": "python",
   "pygments_lexer": "ipython3",
   "version": "3.9.7"
  }
 },
 "nbformat": 4,
 "nbformat_minor": 5
}
