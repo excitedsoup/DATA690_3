{
 "cells": [
  {
   "cell_type": "markdown",
   "id": "f7b81865",
   "metadata": {},
   "source": [
    "## Bubble Sort\n",
    "\n",
    "Bubble sort takes a list, L, and looks at each element (except for the last) one by one, then asks if it's larger than the element at the next index for len(L) iterations. For each step, if the first element is larger than the second element, they swap places, otherwise, nothing changes.\n",
    "\n",
    "To be frank, bubble sort is a terrible sorting algorithm - its average case is O(n^2), and its best case of O(n) can only occur when the list is already sorted (and only if that is implemented, it's not a core function). Even among average O(n^2) sorting algorithms, it generally performs worse, on average. It's specifically mentioned that insertion and selection sort consistently performs more efficiently. As merge sort and timsort both perform better than selection sort, they are also superior to bubble sort. Additionally, it can be slightly improved by not checking sections that are guaranteed to be sorted (seen below). The only redeeming factor that bubble sort seems to have now is in complexity of implementation (although selection sort is similar in complexity) and ease of understanding the method by which it sorts.\n",
    "\n",
    "A couple of interesting visualizations of bubble sort (from https://en.wikipedia.org/wiki/Bubble_sort and https://corte.si/posts/code/visualisingsorting/index.html respectively):\n",
    "\n",
    "![](https://upload.wikimedia.org/wikipedia/commons/3/37/Bubble_sort_animation.gif)\n",
    "\n",
    "![](https://corte.si/posts/code/visualisingsorting/bubble.png)\n",
    "\n",
    "References:\n",
    "\n",
    "https://users.cs.duke.edu/~ola/papers/bubble.pdf\n",
    "\n",
    "https://www.baeldung.com/cs/insertion-vs-bubble-sort\n",
    "\n",
    "https://en.wikipedia.org/wiki/Bubble_sort\n",
    "\n",
    "https://corte.si/posts/code/visualisingsorting/index.html"
   ]
  },
  {
   "cell_type": "code",
   "execution_count": 63,
   "id": "ba192751",
   "metadata": {},
   "outputs": [
    {
     "name": "stdout",
     "output_type": "stream",
     "text": [
      "[86440, 15163, 66882, 63021, 49436, 81733, 45306, 11587, 6123, 69507, 89620, 82349, 17818, 30039, 37254, 21551, 52854, 45800, 77054, 26301, 90623, 59453, 3900, 69102, 88459, 21567, 45946, 87231, 75945, 1694, 32572, 4377, 80504, 62757, 56220, 61585, 78847, 34436, 41509, 70789, 54875, 91598, 9685, 49725, 61709, 52663, 11783, 22678, 72237, 19615, 53994, 62071, 47488, 34230, 11507, 77292, 70245, 54978, 57344, 50725, 20495, 6105, 12919, 96921, 89176, 13219, 90091, 42782, 41299, 67690, 32970, 60919, 76109, 86059, 35224, 73453, 72727, 37096, 75630, 47032, 88780, 16819, 74048, 94256, 48754, 99672, 40578, 93188, 92529, 31246, 11124, 52041, 78847, 93749, 1343, 27136, 15368, 36974, 43875, 33124, 88565, 2440, 26594, 52116, 20842, 75296, 33962, 90945, 99977, 82837, 10997, 78275, 75262, 86893, 2484, 40349, 73605, 90188, 31061, 26399, 25811, 30874, 90057, 67044, 83497, 34081, 90646, 87270, 67795, 62315, 65269, 64325, 56755, 21633, 26052, 38676, 51039, 16732, 86426, 57572, 87487, 34848, 34845, 6384, 20883, 97125, 60891, 62005, 76550, 34223, 6923, 76127, 6654, 71989, 34649, 16336, 41424, 48019, 55963, 65590, 95456, 40602, 63784, 76018, 19004, 52177, 92926, 25937, 17018, 23976, 58473, 35637, 86745, 63516, 19128, 32513, 97132, 10458, 82682, 41110, 13598, 15611, 11176, 83524, 25595, 94115, 22805, 82838, 94797, 89643, 67813, 8566, 38393, 68023, 44444, 91591, 3919, 21279, 21274, 80244]\n"
     ]
    }
   ],
   "source": [
    "#Bubble Sort\n",
    "\n",
    "#Creating a list to sort\n",
    "\n",
    "import random\n",
    "unsorted = []\n",
    "for i in range(0, 200):\n",
    "    num = random.randint(1, 100000)\n",
    "    unsorted.append(num)\n",
    "print(unsorted)"
   ]
  },
  {
   "cell_type": "code",
   "execution_count": 64,
   "id": "975b884b",
   "metadata": {},
   "outputs": [],
   "source": [
    "def bubbleSort(L):\n",
    "    c = 0 # used to decrease time spent (already sorted sections do not need to be sorted again)\n",
    "    n = len(L)\n",
    "    for i in range(0, n):\n",
    "        for j in range(0, n-1-c):\n",
    "            if(L[j] > L[j+1]):\n",
    "                L[j], L[j+1] = L[j+1], L[j]\n",
    "        c += 1\n",
    "    return(L)"
   ]
  },
  {
   "cell_type": "code",
   "execution_count": 65,
   "id": "ca86b3dd",
   "metadata": {},
   "outputs": [
    {
     "name": "stdout",
     "output_type": "stream",
     "text": [
      "List is sorted\n",
      "\n",
      "[1343, 1694, 2440, 2484, 3900, 3919, 4377, 6105, 6123, 6384, 6654, 6923, 8566, 9685, 10458, 10997, 11124, 11176, 11507, 11587, 11783, 12919, 13219, 13598, 15163, 15368, 15611, 16336, 16732, 16819, 17018, 17818, 19004, 19128, 19615, 20495, 20842, 20883, 21274, 21279, 21551, 21567, 21633, 22678, 22805, 23976, 25595, 25811, 25937, 26052, 26301, 26399, 26594, 27136, 30039, 30874, 31061, 31246, 32513, 32572, 32970, 33124, 33962, 34081, 34223, 34230, 34436, 34649, 34845, 34848, 35224, 35637, 36974, 37096, 37254, 38393, 38676, 40349, 40578, 40602, 41110, 41299, 41424, 41509, 42782, 43875, 44444, 45306, 45800, 45946, 47032, 47488, 48019, 48754, 49436, 49725, 50725, 51039, 52041, 52116, 52177, 52663, 52854, 53994, 54875, 54978, 55963, 56220, 56755, 57344, 57572, 58473, 59453, 60891, 60919, 61585, 61709, 62005, 62071, 62315, 62757, 63021, 63516, 63784, 64325, 65269, 65590, 66882, 67044, 67690, 67795, 67813, 68023, 69102, 69507, 70245, 70789, 71989, 72237, 72727, 73453, 73605, 74048, 75262, 75296, 75630, 75945, 76018, 76109, 76127, 76550, 77054, 77292, 78275, 78847, 78847, 80244, 80504, 81733, 82349, 82682, 82837, 82838, 83497, 83524, 86059, 86426, 86440, 86745, 86893, 87231, 87270, 87487, 88459, 88565, 88780, 89176, 89620, 89643, 90057, 90091, 90188, 90623, 90646, 90945, 91591, 91598, 92529, 92926, 93188, 93749, 94115, 94256, 94797, 95456, 96921, 97125, 97132, 99672, 99977]\n"
     ]
    }
   ],
   "source": [
    "sortedList = bubbleSort(unsorted)\n",
    "\n",
    "# Verifying list is sorted\n",
    "f = 0\n",
    "i = 1\n",
    "for i in range(1, len(sortedList)):\n",
    "    if(sortedList[i] < sortedList[i-1]):\n",
    "        f = 1\n",
    "        print(i)\n",
    "    i += 1\n",
    "\n",
    "if (f == 0) :\n",
    "    print ('List is sorted')\n",
    "else:\n",
    "    print ('List is unsorted')\n",
    "\n",
    "print()\n",
    "print(sortedList)"
   ]
  }
 ],
 "metadata": {
  "kernelspec": {
   "display_name": "Python 3 (ipykernel)",
   "language": "python",
   "name": "python3"
  },
  "language_info": {
   "codemirror_mode": {
    "name": "ipython",
    "version": 3
   },
   "file_extension": ".py",
   "mimetype": "text/x-python",
   "name": "python",
   "nbconvert_exporter": "python",
   "pygments_lexer": "ipython3",
   "version": "3.9.7"
  }
 },
 "nbformat": 4,
 "nbformat_minor": 5
}
