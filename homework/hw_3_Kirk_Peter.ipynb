{
 "cells": [
  {
   "cell_type": "code",
   "execution_count": 26,
   "id": "8888b74b",
   "metadata": {},
   "outputs": [
    {
     "data": {
      "text/plain": [
       "2.5"
      ]
     },
     "execution_count": 26,
     "metadata": {},
     "output_type": "execute_result"
    }
   ],
   "source": [
    "t = (1, 2, 3, 4)\n",
    "\n",
    "def mean(tup):\n",
    "    return (sum(tup)/len(tup))\n",
    "\n",
    "mean(t)"
   ]
  },
  {
   "cell_type": "code",
   "execution_count": 22,
   "id": "869ccfb3",
   "metadata": {},
   "outputs": [
    {
     "name": "stdout",
     "output_type": "stream",
     "text": [
      "True\n"
     ]
    }
   ],
   "source": [
    "#This was the only finger exercise I saw for 5.3, the list is recursively embedded in itself\n",
    "L = [1, 2, 3] \n",
    "L.append(L) \n",
    "print(L is L[-1])"
   ]
  },
  {
   "cell_type": "code",
   "execution_count": 9,
   "id": "e1142f18",
   "metadata": {},
   "outputs": [
    {
     "data": {
      "text/plain": [
       "[2,\n",
       " 3,\n",
       " 5,\n",
       " 7,\n",
       " 11,\n",
       " 13,\n",
       " 17,\n",
       " 19,\n",
       " 23,\n",
       " 29,\n",
       " 31,\n",
       " 37,\n",
       " 41,\n",
       " 43,\n",
       " 47,\n",
       " 53,\n",
       " 59,\n",
       " 61,\n",
       " 67,\n",
       " 71,\n",
       " 73,\n",
       " 79,\n",
       " 83,\n",
       " 89,\n",
       " 97]"
      ]
     },
     "execution_count": 9,
     "metadata": {},
     "output_type": "execute_result"
    }
   ],
   "source": [
    "[i for i in range(2, 101) if all(i%j != 0 for j in range(2, int(i * .5) + 1))] #use range of (2, 1/2 i) + 1 to limit search time"
   ]
  },
  {
   "cell_type": "code",
   "execution_count": 25,
   "id": "1800a75c",
   "metadata": {},
   "outputs": [
    {
     "data": {
      "text/plain": [
       "9"
      ]
     },
     "execution_count": 25,
     "metadata": {},
     "output_type": "execute_result"
    }
   ],
   "source": [
    "def f(L1, L2):\n",
    "    return sum(list(map(lambda x, y: x**y, L1, L2)))\n",
    "\n",
    "L1 = [1, 2]\n",
    "L2 = [2, 3]\n",
    "f(L1, L2)"
   ]
  },
  {
   "cell_type": "code",
   "execution_count": null,
   "id": "97e88bbe",
   "metadata": {},
   "outputs": [],
   "source": []
  }
 ],
 "metadata": {
  "kernelspec": {
   "display_name": "Python 3 (ipykernel)",
   "language": "python",
   "name": "python3"
  },
  "language_info": {
   "codemirror_mode": {
    "name": "ipython",
    "version": 3
   },
   "file_extension": ".py",
   "mimetype": "text/x-python",
   "name": "python",
   "nbconvert_exporter": "python",
   "pygments_lexer": "ipython3",
   "version": "3.9.7"
  }
 },
 "nbformat": 4,
 "nbformat_minor": 5
}
