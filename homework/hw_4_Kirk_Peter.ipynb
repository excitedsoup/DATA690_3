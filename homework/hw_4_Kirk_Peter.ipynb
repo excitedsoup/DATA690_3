{
 "cells": [
  {
   "cell_type": "code",
   "execution_count": 1,
   "id": "2597566c",
   "metadata": {},
   "outputs": [],
   "source": [
    "def harmonic(n, h):\n",
    "    if(h < n):\n",
    "        return 1/h + harmonic(n, h + 1)\n",
    "    else:\n",
    "        return 1/n"
   ]
  },
  {
   "cell_type": "code",
   "execution_count": 2,
   "id": "0fb2db5e",
   "metadata": {},
   "outputs": [
    {
     "data": {
      "text/plain": [
       "7.485470860550341"
      ]
     },
     "execution_count": 2,
     "metadata": {},
     "output_type": "execute_result"
    }
   ],
   "source": [
    "harmonic(1000, 1)"
   ]
  },
  {
   "cell_type": "code",
   "execution_count": 27,
   "id": "d8f8b20c",
   "metadata": {},
   "outputs": [],
   "source": [
    "def fib(n):\n",
    "    \"\"\"Assumes n int >= 0 \n",
    "    Returns Fibonacci of n\"\"\"\n",
    "    if(n == 2):\n",
    "        print('Doing fib(2)')\n",
    "    if n == 0 or n == 1:\n",
    "        return 1 \n",
    "    else:\n",
    "        return fib(n-1) + fib(n-2) \n",
    "    \n",
    "def test_fib(n): \n",
    "    for i in range(n+1): \n",
    "        print('fib of', i, '=', fib(i))"
   ]
  },
  {
   "cell_type": "code",
   "execution_count": 28,
   "id": "94046fce",
   "metadata": {},
   "outputs": [
    {
     "name": "stdout",
     "output_type": "stream",
     "text": [
      "fib of 0 = 1\n",
      "fib of 1 = 1\n",
      "Doing fib(2)\n",
      "fib of 2 = 2\n",
      "Doing fib(2)\n",
      "fib of 3 = 3\n",
      "Doing fib(2)\n",
      "Doing fib(2)\n",
      "fib of 4 = 5\n",
      "Doing fib(2)\n",
      "Doing fib(2)\n",
      "Doing fib(2)\n",
      "fib of 5 = 8\n"
     ]
    }
   ],
   "source": [
    "test_fib(5)\n",
    "#7 times"
   ]
  },
  {
   "cell_type": "code",
   "execution_count": 57,
   "id": "05d9dcf6",
   "metadata": {},
   "outputs": [],
   "source": [
    "import calendar as cal\n",
    "\n",
    "def find_thanksgiving(year): \n",
    "month = cal.monthcalendar(year, 11) \n",
    "if month[0][cal.THURSDAY] != 0: \n",
    "\n",
    "print('In 2011', 'U.S. Thanksgiving was on November', \n",
    "find_thanksgiving(2011)) "
   ]
  },
  {
   "cell_type": "code",
   "execution_count": 75,
   "id": "6af0d7d3",
   "metadata": {},
   "outputs": [
    {
     "name": "stdout",
     "output_type": "stream",
     "text": [
      "In 2011, there were 28 between Thanksgiving and Christmas\n"
     ]
    }
   ],
   "source": [
    "def shopping_days(year):\n",
    "    if(year >= 1941):\n",
    "        month = cal.monthcalendar(year, 11)\n",
    "        if month[0][cal.THURSDAY] != 0:\n",
    "            thanksgiving = month[3][cal.THURSDAY] \n",
    "        else: \n",
    "            thanksgiving = month[4][cal.THURSDAY] \n",
    "        return 30 - thanksgiving + 25\n",
    "    else:\n",
    "        return '[Invalid Year Provided]'\n",
    "print('In 2011, there were', shopping_days(2003), 'days between Thanksgiving and Christmas') "
   ]
  },
  {
   "cell_type": "code",
   "execution_count": 64,
   "id": "2e6c54b7",
   "metadata": {},
   "outputs": [],
   "source": [
    "def daysbetween(year):\n",
    "    if(year > 1957):\n",
    "        cal_english = cal.monthcalendar(year, 11)\n",
    "        if(cal_english[0][0] == 0):\n",
    "            return 31 - cal_english[2][0] + 25 # 31 is end of the month, then 25 days to christmas, goes to third row of weeks\n",
    "                                               # because monday hasn't happened in the month on the first row\n",
    "        else:\n",
    "            return 31 - cal_english[1][0] + 25 # uses second row if the first monday shows up in the first row\n",
    "    else:\n",
    "        return '[Invalid Year Provided]'"
   ]
  },
  {
   "cell_type": "code",
   "execution_count": 67,
   "id": "36a6ecd8",
   "metadata": {},
   "outputs": [
    {
     "name": "stdout",
     "output_type": "stream",
     "text": [
      "There were 42 days between Canadian Thanksgiving and Christmas in 1960\n"
     ]
    }
   ],
   "source": [
    "print('There were', daysbetween(1960), 'days between Canadian Thanksgiving and Christmas in 1960')"
   ]
  },
  {
   "cell_type": "code",
   "execution_count": 98,
   "id": "f3be4807",
   "metadata": {},
   "outputs": [],
   "source": [
    "def sum_digits(s):\n",
    "    s = list(s)\n",
    "    total = 0\n",
    "    for i in range(0, len(s)):\n",
    "        try:\n",
    "            total += int(s[i])\n",
    "        except(ValueError):\n",
    "            s[i] = 0\n",
    "    return total\n"
   ]
  },
  {
   "cell_type": "code",
   "execution_count": 101,
   "id": "c84dce56",
   "metadata": {},
   "outputs": [
    {
     "name": "stdout",
     "output_type": "stream",
     "text": [
      "5\n"
     ]
    },
    {
     "data": {
      "text/plain": [
       "49"
      ]
     },
     "execution_count": 101,
     "metadata": {},
     "output_type": "execute_result"
    }
   ],
   "source": [
    "print(sum_digits('a2b3c'))\n",
    "sum_digits('a2b3c3aiub324i6i4o3la5a95')"
   ]
  },
  {
   "cell_type": "code",
   "execution_count": 110,
   "id": "e5fba7d6",
   "metadata": {},
   "outputs": [],
   "source": [
    "def find_an_even(L):\n",
    "    for i in L:\n",
    "        if i % 2 == 0:\n",
    "            return i\n",
    "    raise ValueError('No even could be found in the list provided:', L)"
   ]
  },
  {
   "cell_type": "code",
   "execution_count": 115,
   "id": "0b4cd8a1",
   "metadata": {},
   "outputs": [
    {
     "ename": "ValueError",
     "evalue": "('No even could be found in the list provided:', [1, 3, 5, 7, 9])",
     "output_type": "error",
     "traceback": [
      "\u001b[1;31m---------------------------------------------------------------------------\u001b[0m",
      "\u001b[1;31mValueError\u001b[0m                                Traceback (most recent call last)",
      "\u001b[1;32m~\\AppData\\Local\\Temp/ipykernel_10152/1535588712.py\u001b[0m in \u001b[0;36m<module>\u001b[1;34m\u001b[0m\n\u001b[0;32m      1\u001b[0m \u001b[0mL\u001b[0m \u001b[1;33m=\u001b[0m \u001b[1;33m[\u001b[0m\u001b[1;36m1\u001b[0m\u001b[1;33m,\u001b[0m \u001b[1;36m3\u001b[0m\u001b[1;33m,\u001b[0m \u001b[1;36m5\u001b[0m\u001b[1;33m,\u001b[0m \u001b[1;36m7\u001b[0m\u001b[1;33m,\u001b[0m \u001b[1;36m9\u001b[0m\u001b[1;33m]\u001b[0m\u001b[1;33m\u001b[0m\u001b[1;33m\u001b[0m\u001b[0m\n\u001b[1;32m----> 2\u001b[1;33m \u001b[0mfind_an_even\u001b[0m\u001b[1;33m(\u001b[0m\u001b[0mL\u001b[0m\u001b[1;33m)\u001b[0m\u001b[1;33m\u001b[0m\u001b[1;33m\u001b[0m\u001b[0m\n\u001b[0m",
      "\u001b[1;32m~\\AppData\\Local\\Temp/ipykernel_10152/73491501.py\u001b[0m in \u001b[0;36mfind_an_even\u001b[1;34m(L)\u001b[0m\n\u001b[0;32m      4\u001b[0m             \u001b[1;32mreturn\u001b[0m \u001b[0mi\u001b[0m\u001b[1;33m\u001b[0m\u001b[1;33m\u001b[0m\u001b[0m\n\u001b[0;32m      5\u001b[0m     \u001b[0mmsg\u001b[0m \u001b[1;33m=\u001b[0m \u001b[1;34m'No even could be found in the list provided:'\u001b[0m\u001b[1;33m\u001b[0m\u001b[1;33m\u001b[0m\u001b[0m\n\u001b[1;32m----> 6\u001b[1;33m     \u001b[1;32mraise\u001b[0m \u001b[0mValueError\u001b[0m\u001b[1;33m(\u001b[0m\u001b[0mmsg\u001b[0m\u001b[1;33m,\u001b[0m \u001b[0mL\u001b[0m\u001b[1;33m)\u001b[0m\u001b[1;33m\u001b[0m\u001b[1;33m\u001b[0m\u001b[0m\n\u001b[0m",
      "\u001b[1;31mValueError\u001b[0m: ('No even could be found in the list provided:', [1, 3, 5, 7, 9])"
     ]
    }
   ],
   "source": [
    "L = [1, 3, 5, 7, 9]\n",
    "find_an_even(L)"
   ]
  },
  {
   "cell_type": "code",
   "execution_count": 114,
   "id": "230c87c2",
   "metadata": {},
   "outputs": [
    {
     "data": {
      "text/plain": [
       "4"
      ]
     },
     "execution_count": 114,
     "metadata": {},
     "output_type": "execute_result"
    }
   ],
   "source": [
    "L = [4, 3, 6, 7, 9]\n",
    "find_an_even(L)"
   ]
  },
  {
   "cell_type": "code",
   "execution_count": null,
   "id": "0f1b276f",
   "metadata": {},
   "outputs": [],
   "source": []
  }
 ],
 "metadata": {
  "kernelspec": {
   "display_name": "Python 3 (ipykernel)",
   "language": "python",
   "name": "python3"
  },
  "language_info": {
   "codemirror_mode": {
    "name": "ipython",
    "version": 3
   },
   "file_extension": ".py",
   "mimetype": "text/x-python",
   "name": "python",
   "nbconvert_exporter": "python",
   "pygments_lexer": "ipython3",
   "version": "3.9.7"
  }
 },
 "nbformat": 4,
 "nbformat_minor": 5
}
